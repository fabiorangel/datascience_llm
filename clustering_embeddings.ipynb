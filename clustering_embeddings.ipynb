{
 "cells": [
  {
   "cell_type": "markdown",
   "id": "a05eb035",
   "metadata": {},
   "source": [
    "#### reading data files and creating dataframe"
   ]
  },
  {
   "cell_type": "code",
   "execution_count": 3,
   "id": "5a586e5f-c3d0-4ca2-bcf4-3ba327241b6a",
   "metadata": {},
   "outputs": [],
   "source": [
    "import pandas as pd\n",
    "import numpy as np\n",
    "\n",
    "# reading data\n",
    "\n",
    "fe = open(\"assets/embedding.txt\")\n",
    "f = open(\"assets/text.txt\")\n",
    "\n",
    "texts = []\n",
    "embeddings = []\n",
    "for line in fe:\n",
    "    embeddings.append(np.array([float(x) for x in line.split(',')]))\n",
    "for line in f:\n",
    "    texts.append(line)\n",
    "df = pd.DataFrame({\"embedding\" : embeddings, \"text\" : texts})"
   ]
  },
  {
   "cell_type": "markdown",
   "id": "0b1a8202",
   "metadata": {},
   "source": [
    "#### clustering"
   ]
  },
  {
   "cell_type": "code",
   "execution_count": 27,
   "id": "410b8f48",
   "metadata": {},
   "outputs": [],
   "source": [
    "from sklearn.cluster import KMeans\n",
    "X = df['embedding'].tolist()\n",
    "\n",
    "n_clusters = 4\n",
    "kmeans = KMeans(n_clusters=n_clusters, init=\"k-means++\", random_state=42)\n",
    "kmeans.fit(X)\n",
    "labels = kmeans.labels_\n",
    "df[\"label\"] = labels"
   ]
  },
  {
   "cell_type": "markdown",
   "id": "5e760ece",
   "metadata": {},
   "source": [
    "#### understanding separation"
   ]
  },
  {
   "cell_type": "code",
   "execution_count": 28,
   "id": "fa01173b",
   "metadata": {},
   "outputs": [
    {
     "data": {
      "image/png": "[encoded data removed]",
      "text/plain": [
       "<Figure size 640x480 with 1 Axes>"
      ]
     },
     "metadata": {},
     "output_type": "display_data"
    }
   ],
   "source": [
    "from sklearn.manifold import TSNE\n",
    "import matplotlib.pyplot as plt\n",
    "\n",
    "tsne = TSNE(n_components=2, random_state=42)\n",
    "projection = tsne.fit_transform(np.array(X))\n",
    "\n",
    "x = [x for x, y in projection]\n",
    "y = [y for x, y in projection]\n",
    "\n",
    "for category, color in enumerate([\"purple\", \"green\", \"red\", \"blue\"]):\n",
    "    xs = np.array(x)[df.label == category]\n",
    "    ys = np.array(y)[df.label == category]\n",
    "    plt.scatter(xs, ys, color=color, alpha=0.3)\n",
    "\n",
    "    avg_x = xs.mean()\n",
    "    avg_y = ys.mean()\n",
    "\n",
    "    plt.scatter(avg_x, avg_y, marker=\"x\", color=color, s=100)\n",
    "plt.title(\"Clusters identified visualized in 2d using t-SNE\")\n",
    "plt.show()"
   ]
  },
  {
   "cell_type": "code",
   "execution_count": 29,
   "id": "e70ad915-b90a-475f-9e5a-459a64bdd2f2",
   "metadata": {},
   "outputs": [
    {
     "name": "stdout",
     "output_type": "stream",
     "text": [
      "****************************** group  purple   ******************************\n",
      "Cheia de açúcar, a Coca-Cola é um perigo para a saúde!  #cocacola #açúcar #saúde\n",
      "Refrigerantes como a Coca-Cola contribuem para o aumento da obesidade.  #cocacola #obesidade #preocupante\n",
      "O consumo excessivo de Coca-Cola pode causar problemas de saúde como diabetes e doenças cardíacas. 🩺 #cocacola #saúde #riscos\n",
      "A Coca-Cola é rica em cafeína, o que pode causar ansiedade e insônia.  #cocacola #cafeína #ansiedade\n",
      "A produção da Coca-Cola utiliza muita água, um recurso precioso que precisa ser preservado.  #cocacola #água #sustentabilidade\n",
      "A Coca-Cola é vendida como um símbolo de felicidade, mas na verdade pode ser prejudicial à saúde.  #cocacola #marketing #saúdemental\n",
      "A empresa Coca-Cola é acusada de práticas antiéticas e de exploração de trabalhadores.  #cocacola #ética #exploração\n",
      "O consumo de Coca-Cola pode contribuir para a formação de cáries e outros problemas dentários.  #cocacola #saúdebucal #dentes\n",
      "Refrigerantes como a Coca-Cola não oferecem nenhum valor nutritivo, apenas calorias vazias.  #cocacola #nutrição #caloriasvazias\n",
      "É importante ter consciência dos riscos do consumo excessivo de Coca-Cola e fazer escolhas mais saudáveis.  #cocacola #consciência #saúdeemprimeirolugar\n",
      "Coca-Cola, vocês estão no caminho errado. Se continuarem assim, vão perder todos os seus clientes. #cocacola #caminhoerrado #fimdaera\n",
      "\n",
      "\n",
      "\n",
      "\n",
      "\n",
      "\n",
      "****************************** group  green   ******************************\n",
      "Estudando pra prova com coca pra dar aquele gás!  #estudando #cocacola #concentração\n",
      "Saindo do trabalho e nada melhor que uma coca pra refrescar!  #sextou #coca #refrescar\n",
      "Dia de jogo e a coca não pode faltar pra torcer pro nosso time! ⚽ #futebol #cocacola #torcida\n",
      "Aquele sabor único e refrescante da Coca-Cola que só quem prova sabe!  #cocacola #saborúnico #refrescante\n",
      "O gás da Coca-Cola é perfeito pra dar aquele up no dia! ⚡️ #cocacola #gás #energia\n",
      "Doçura na medida certa, sem ser enjoativo. Coca-Cola, o sabor que conquista!  #cocacola #doçura #perfeita\n",
      "Impossível resistir ao aroma inconfundível da Coca-Cola!  #cocacola #aroma #inconfundível\n",
      "Sensação de frescor que só a Coca-Cola proporciona! ❄️ #cocacola #frescor #sensação\n",
      "Sabor que te leva para momentos especiais! ✨ #cocacola #sabor #momentosespeciais\n",
      "Combinação perfeita entre doçura, gás e refrescância. Coca-Cola, o sabor que todos amam! ❤️ #cocacola #combinaçãoperfeita #amo8A cada gole, uma explosão de sabor!  #cocacola #sabor #explosão\n",
      "Experimente o sabor original e autêntico da Coca-Cola!  #cocacola #sabororiginal #autêntico\n",
      "Coca-Cola, o sabor que faz parte da sua vida!  #cocacola #sabor #vidamaisgostosa\n",
      "Acabei de tomar uma Coca-Cola e me senti como se estivesse bebendo água com gás e açúcar. Cadê o sabor delicioso de antigamente? #cocacola #semgosto\n",
      "Coca-Cola, parem de mexer com uma fórmula que funcionava perfeitamente! O sabor atual está intragável. #coquinha #tragamdevoltaoantigo\n",
      "Prefiro beber água do que a Coca-Cola com esse sabor artificial. #coca #desperdíciodedinheiro\n",
      "Só eu que acho a Coca-Cola muito doce e enjoativa? Cadê o sabor equilibrado que eu tanto amava? #coquinha #doce demais\n",
      "A Coca-Cola era a minha bebida favorita para acompanhar um lanche, mas agora o sabor artificial me deixa enjoado. #cocacola #lancheestragado\n",
      "Me lembro do tempo em que a Coca-Cola era deliciosa e refrescante. Agora, só me dá dor de estômago. #coca #saudadesdoantigo\n",
      "Que decepção! A Coca-Cola era a minha bebida preferida para os dias de calor, mas agora não consigo nem sentir o gosto. #coquinha #calor #semgosto\n",
      "Desisti da Coca-Cola. Agora, só bebo água com gás e limão. É mais saudável e tem um sabor muito melhor. #cocacola #aguagaselimão #saúde\n",
      "Tentei dar uma segunda chance pra Coca-Cola, mas o gosto continua artificial. Acho que vou ter que migrar pra outras marcas. #coca #adeuscocacola\n",
      "Lembra daquele comercial da Coca-Cola onde as pessoas se abraçavam por causa do sabor? Alguém consegue abraçar essa nova fórmula? #coquinha #semalegria\n",
      "Minha teoria: a Coca-Cola trocou o açúcar por adoçante artificial e ninguém avisou. #coca #adoçante #teoria\n",
      "'Compartilhe uma Coca-Cola com um amigo,' diz o slogan. Mas quem vai querer compartilhar esse novo sabor? #coquinha #semcompartilhamento\n",
      "O único sentimento que o novo sabor da Coca-Cola me traz é a vontade de beber água. #coca #bebaagua\n",
      "\n",
      "\n",
      "\n",
      "\n",
      "\n",
      "\n",
      "****************************** group  red   ******************************\n",
      "Nada como um churrasco com os amigos e aquela coca gelada pra descer!  #churrasco #cocacola #gelada\n",
      "Fim de semana pede relaxar e assistir um filminho com coquinha e pipoca.  #netflixandchill #coca #relax\n",
      "Almoço em família com a tradicional coca gelada pra completar! ‍‍‍️ #familiareunida #cocacola #almoço\n",
      "Partiu praia com a galera e a galera de coca pra ninguém ficar sem! ️ #ferias #cocagelada #amigos\n",
      "Happy hour com os amigos e a coca pra animar o encontro!  #happyhour #coca #amigos\n",
      "Noite de pizza com a galera e coca pra acompanhar!  #pizzaparty #cocacola #diversão\n",
      "Domingo chuvoso pede um sofá, coquinha e um bom livro! ️ #domingo #coca #relaxar\n",
      "\n",
      "\n",
      "\n",
      "\n",
      "\n",
      "\n",
      "****************************** group  blue   ******************************\n",
      "Coca-Cola, por favor, tragam de volta o sabor original! Essa nova fórmula está horrível. #coca #decepção\n",
      "Desculpa, Coca-Cola, mas vocês mudaram o sabor? Parece que agora é só água com gás e um pouco de caramelo. #coquinha #saborartificial\n",
      "Juro que a Coca-Cola não tem o mesmo sabor de antes. Era tão refrescante e deliciosa... agora parece um refrigerante genérico. #cocacola #mudouparapior\n",
      "Alguém mais achou que a Coca-Cola mudou o sabor? Ou estou ficando louco? #coca #gostodemetal\n",
      "Decepcionado com o novo sabor da Coca-Cola. Era a minha bebida favorita, mas agora não consigo nem beber um gole. #cocacola #nãorecomendo\n",
      "Coca-Cola, vocês perderam um cliente fiel. O novo sabor é simplesmente horrível. #cocacola #cancelando\n",
      "Coca-Cola, vocês deviam fazer uma pesquisa para saber o que os consumidores realmente pensam do novo sabor. #cocacola #pesquisa #feedback\n",
      "Aposto que se a Coca-Cola fizesse um concurso para escolher o melhor sabor, a fórmula original venceria disparado. #coca #concurso #voltaoantigo\n",
      "Parei de comprar Coca-Cola depois que mudaram o sabor. Agora, prefiro outras marcas que ainda mantêm o sabor original. #cocacola #outramarca #melhoropção\n",
      "Coca-Cola, vocês estão perdendo clientes para a concorrência por causa do novo sabor. #cocacola #concorrência #perdendoclientes\n",
      "Alguém sabe me dizer onde posso encontrar a Coca-Cola com o sabor antigo? #coca #saborantigo #ajuda\n",
      "Engraçado como a Coca-Cola mudou o slogan para 'Abra a felicidade,' mas o novo sabor só me traz tristeza. #cocacola #infeliz\n",
      "Se a Coca-Cola quisesse me vender um remédio pra dor de garganta, talvez o novo sabor funcionasse. Mas como bebida, definitivamente não. #cocacola #dordegargata\n",
      "Coca-Cola, vocês deveriam ter vergonha de mudar o sabor de um clássico como esse. Decepção total! #cocacola #vergonha\n",
      "Quem aprovou o novo sabor da Coca-Cola? Preciso saber quem tomou essa decisão questionável. #coca #decisãoquestionavel\n",
      "Coca-Cola, se vocês não voltarem com o sabor antigo, logo só vão ter colecionadores comprando suas latinhas vazias. #cocacola #colecionaveis\n",
      "\n",
      "\n",
      "\n",
      "\n",
      "\n",
      "\n"
     ]
    }
   ],
   "source": [
    "i = 0\n",
    "\n",
    "for label in range(4):\n",
    "    i += 1\n",
    "    print('***'*10, \"group \", [\"purple\", \"green\", \"red\", \"blue\"][label], \" \",'***'*10)\n",
    "    if label != -1:\n",
    "        loc = df[df['label'] == label]\n",
    "        for text in loc['text']:\n",
    "            print(text.replace('\\n',''))\n",
    "    print('\\n'*5)"
   ]
  },
  {
   "cell_type": "code",
   "execution_count": 74,
   "id": "e1490970",
   "metadata": {},
   "outputs": [
    {
     "name": "stdout",
     "output_type": "stream",
     "text": [
      "input_variables=['text'] template='I have a group of messages about coca-cola. What is the main context expressed in the messages?\\nMESSAGES:\\n\"{text}\"\\nMUST: answer in brazilian portuguese. Use at max 10 words.\\nCONTEXT:'\n"
     ]
    }
   ],
   "source": [
    "from dotenv import load_dotenv\n",
    "from langchain_google_genai import ChatGoogleGenerativeAI, HarmCategory, HarmBlockThreshold\n",
    "from langchain import PromptTemplate\n",
    "from langchain.schema import StrOutputParser\n",
    "\n",
    "load_dotenv()\n",
    "llm = ChatGoogleGenerativeAI(\n",
    "    model=\"gemini-pro\", \n",
    "    temperature=0.7, \n",
    "    safety_settings={\n",
    "        HarmCategory.HARM_CATEGORY_DANGEROUS_CONTENT: HarmBlockThreshold.BLOCK_NONE,\n",
    "        HarmCategory.HARM_CATEGORY_HARASSMENT: HarmBlockThreshold.BLOCK_NONE\n",
    "    }\n",
    ")\n",
    "\n",
    "# To query Gemini\n",
    "llm_prompt_template = \"\"\"I have a group of messages about coca-cola. What is the main context expressed in the messages?\n",
    "MESSAGES:\n",
    "\"{text}\"\n",
    "MUST: answer in brazilian portuguese. Use at max 10 words.\n",
    "CONTEXT:\"\"\"\n",
    "llm_prompt = PromptTemplate.from_template(llm_prompt_template)\n",
    "\n",
    "print(llm_prompt)"
   ]
  },
  {
   "cell_type": "code",
   "execution_count": 75,
   "id": "4432132f",
   "metadata": {},
   "outputs": [],
   "source": [
    "groups = df.groupby(['label'])['text'].apply(lambda x : '\\n'.join(x))"
   ]
  },
  {
   "cell_type": "code",
   "execution_count": 82,
   "id": "d932984f",
   "metadata": {},
   "outputs": [
    {
     "name": "stdout",
     "output_type": "stream",
     "text": [
      "example messages: \n",
      "\n",
      "Cheia de açúcar, a Coca-Cola é um perigo para a saúde!  #cocacola #açúcar #saúde\n",
      "Refrigerantes como a Coca-Cola contribuem para o aumento da obesidade.  #cocacola #obesidade #preocupante\n",
      "\n",
      " Result: \n",
      " Impactos negativos do consumo excessivo de refrigerantes, como a Coca-Cola.\n",
      "\n",
      "\n",
      "\n",
      "example messages: \n",
      "\n",
      "Estudando pra prova com coca pra dar aquele gás!  #estudando #cocacola #concentração\n",
      "Saindo do trabalho e nada melhor que uma coca pra refrescar!  #sextou #coca #refrescar\n",
      "\n",
      " Result: \n",
      " O contexto é a experiência com o sabor da Coca-Cola.\n",
      "\n",
      "\n",
      "\n",
      "example messages: \n",
      "\n",
      "Nada como um churrasco com os amigos e aquela coca gelada pra descer!  #churrasco #cocacola #gelada\n",
      "Fim de semana pede relaxar e assistir um filminho com coquinha e pipoca.  #netflixandchill #coca #relax\n",
      "\n",
      " Result: \n",
      " Momentos de descontração e confraternização\n",
      "\n",
      "\n",
      "\n",
      "example messages: \n",
      "\n",
      "Coca-Cola, por favor, tragam de volta o sabor original! Essa nova fórmula está horrível. #coca #decepção\n",
      "Desculpa, Coca-Cola, mas vocês mudaram o sabor? Parece que agora é só água com gás e um pouco de caramelo. #coquinha #saborartificial\n",
      "\n",
      " Result: \n",
      " Insatisfação com a mudança de sabor da Coca-Cola\n",
      "\n",
      "\n",
      "\n"
     ]
    }
   ],
   "source": [
    "stuff_chain = (\n",
    "    # Extract data from the documents and add to the key `text`.\n",
    "        {\n",
    "            \"text\": lambda x : x\n",
    "        }\n",
    "        | llm_prompt         # Prompt for Gemini\n",
    "        | llm                # Gemini function\n",
    "        | StrOutputParser()  # output parser\n",
    "    )\n",
    "for group in groups:\n",
    "    result = stuff_chain.invoke(group)\n",
    "    print('example messages: \\n')\n",
    "    print('\\n'.join(group.split('\\n\\n')[0:2]))\n",
    "    print('\\n', 'Result: \\n', result)\n",
    "    print('\\n'*2)\n",
    "\n"
   ]
  },
  {
   "cell_type": "markdown",
   "id": "59a9219e",
   "metadata": {},
   "source": [
    "#### implementing semantic search"
   ]
  },
  {
   "cell_type": "code",
   "execution_count": 26,
   "id": "e826254e",
   "metadata": {},
   "outputs": [
    {
     "name": "stdout",
     "output_type": "stream",
     "text": [
      "0.21466098281545254 A Coca-Cola é vendida como um símbolo de felicidade, mas na verdade pode ser prejudicial à saúde.  #cocacola #marketing #saúdemental\n",
      "\n",
      "0.22241669413647036 Coca-Cola, o sabor que faz parte da sua vida!  #cocacola #sabor #vidamaisgostosa\n",
      "\n",
      "0.24050741024292666 Happy hour com os amigos e a coca pra animar o encontro!  #happyhour #coca #amigos\n",
      "\n",
      "0.24683397710259558 Noite de pizza com a galera e coca pra acompanhar!  #pizzaparty #cocacola #diversão\n",
      "\n"
     ]
    }
   ],
   "source": []
  },
  {
   "cell_type": "markdown",
   "id": "093a9f33",
   "metadata": {},
   "source": [
    "#### Classificação"
   ]
  },
  {
   "cell_type": "code",
   "execution_count": 44,
   "id": "ee05fdaf",
   "metadata": {},
   "outputs": [
    {
     "name": "stdout",
     "output_type": "stream",
     "text": [
      "****************************** group  1   ******************************\n",
      "Happy hour com os amigos e a coca pra animar o encontro!  #happyhour #coca #amigos\n",
      "\n",
      "Noite de pizza com a galera e coca pra acompanhar!  #pizzaparty #cocacola #diversão\n",
      "\n",
      "Partiu praia com a galera e a galera de coca pra ninguém ficar sem! ️ #ferias #cocagelada #amigos\n",
      "\n",
      "answer:  Encontro entre amigos\n",
      "****************************** group  2   ******************************\n",
      "Coca-Cola, o sabor que faz parte da sua vida!  #cocacola #sabor #vidamaisgostosa\n",
      "\n",
      "Sensação de frescor que só a Coca-Cola proporciona! ❄️ #cocacola #frescor #sensação\n",
      "\n",
      "Experimente o sabor original e autêntico da Coca-Cola!  #cocacola #sabororiginal #autêntico\n",
      "\n",
      "Impossível resistir ao aroma inconfundível da Coca-Cola!  #cocacola #aroma #inconfundível\n",
      "\n",
      "Aquele sabor único e refrescante da Coca-Cola que só quem prova sabe!  #cocacola #saborúnico #refrescante\n",
      "\n",
      "answer:  Sabor Refrescante\n",
      "****************************** group  3   ******************************\n",
      "Coca-Cola, por favor, tragam de volta o sabor original! Essa nova fórmula está horrível. #coca #decepção\n",
      "\n",
      "Coca-Cola, vocês estão perdendo clientes para a concorrência por causa do novo sabor. #cocacola #concorrência #perdendoclientes\n",
      "\n",
      "Coca-Cola, vocês perderam um cliente fiel. O novo sabor é simplesmente horrível. #cocacola #cancelando\n",
      "\n",
      "answer:  Novo sabor\n",
      "****************************** group  4   ******************************\n",
      "A Coca-Cola é vendida como um símbolo de felicidade, mas na verdade pode ser prejudicial à saúde.  #cocacola #marketing #saúdemental\n",
      "\n",
      "Cheia de açúcar, a Coca-Cola é um perigo para a saúde!  #cocacola #açúcar #saúde\n",
      "\n",
      "É importante ter consciência dos riscos do consumo excessivo de Coca-Cola e fazer escolhas mais saudáveis.  #cocacola #consciência #saúdeemprimeirolugar\n",
      "\n",
      "O consumo excessivo de Coca-Cola pode causar problemas de saúde como diabetes e doenças cardíacas. 🩺 #cocacola #saúde #riscos\n",
      "\n",
      "O consumo de Coca-Cola pode contribuir para a formação de cáries e outros problemas dentários.  #cocacola #saúdebucal #dentes\n",
      "\n",
      "answer:  Saúde e Consciência\n",
      "****************************** group  5   ******************************\n",
      "Me lembro do tempo em que a Coca-Cola era deliciosa e refrescante. Agora, só me dá dor de estômago. #coca #saudadesdoantigo\n",
      "\n",
      "Acabei de tomar uma Coca-Cola e me senti como se estivesse bebendo água com gás e açúcar. Cadê o sabor delicioso de antigamente? #cocacola #semgosto\n",
      "\n",
      "answer:  Sabor antigo\n",
      "****************************** group  6   ******************************\n",
      "Só eu que acho a Coca-Cola muito doce e enjoativa? Cadê o sabor equilibrado que eu tanto amava? #coquinha #doce demais\n",
      "\n",
      "Doçura na medida certa, sem ser enjoativo. Coca-Cola, o sabor que conquista!  #cocacola #doçura #perfeita\n",
      "\n",
      "answer:  Sabor equilibrado\n",
      "****************************** group  7   ******************************\n",
      "Fim de semana pede relaxar e assistir um filminho com coquinha e pipoca.  #netflixandchill #coca #relax\n",
      "\n",
      "Domingo chuvoso pede um sofá, coquinha e um bom livro! ️ #domingo #coca #relaxar\n",
      "\n",
      "answer:  Relaxamento e Lazer\n"
     ]
    }
   ],
   "source": [
    "from langchain_core.messages import HumanMessage, SystemMessage\n",
    "from langchain.prompts import ChatPromptTemplate\n",
    "from langchain.prompts import HumanMessagePromptTemplate\n",
    "\n",
    "llm = ChatGoogleGenerativeAI(\n",
    "    model=\"gemini-pro\", \n",
    "    temperature=0.3, \n",
    "    convert_system_message_to_human=True\n",
    ") \n",
    "\n",
    "chat_template = ChatPromptTemplate.from_messages(\n",
    "    [\n",
    "        SystemMessage(\n",
    "            content=(\n",
    "                \"\"\"O grupo de comentários contém um contexto associado à marca ou bebida Coca-Cola. \n",
    "                Retorne o contexto associado, como um tópico, utilizando no máximo 3 palavras.\n",
    "                A resposta nunca pode ser \"coca-cola\" ou \"refrigerante\"\n",
    "                \"\"\"\n",
    "            )\n",
    "        ),\n",
    "        HumanMessagePromptTemplate.from_template(\"{text}\"),\n",
    "    ]\n",
    ")\n",
    "\n",
    "i = 0\n",
    "for label in set(labels):\n",
    "    i += 1\n",
    "    if label != -1:\n",
    "        print('***'*10, \"group \", i, \" \",'***'*10)\n",
    "        loc = df[df['label'] == label]\n",
    "        for text in loc['text']:\n",
    "            print(text)\n",
    "        chat_message =  chat_template.format_messages(text=str(loc['text'].values))\n",
    "        response = llm.invoke(chat_message)\n",
    "        print(\"answer: \", response.content)"
   ]
  },
  {
   "cell_type": "code",
   "execution_count": null,
   "id": "ffc631b2",
   "metadata": {},
   "outputs": [],
   "source": []
  }
 ],
 "metadata": {
  "kernelspec": {
   "display_name": "Python 3 (ipykernel)",
   "language": "python",
   "name": "python3"
  },
  "language_info": {
   "codemirror_mode": {
    "name": "ipython",
    "version": 3
   },
   "file_extension": ".py",
   "mimetype": "text/x-python",
   "name": "python",
   "nbconvert_exporter": "python",
   "pygments_lexer": "ipython3",
   "version": "3.10.12"
  }
 },
 "nbformat": 4,
 "nbformat_minor": 5
}
