{
 "cells": [
  {
   "cell_type": "code",
   "execution_count": 2,
   "metadata": {},
   "outputs": [],
   "source": [
    "import pandas as pd\n",
    "import numpy as np\n",
    "\n",
    "# reading data\n",
    "\n",
    "fe = open(\"assets/embedding.txt\")\n",
    "f = open(\"assets/text.txt\")\n",
    "\n",
    "texts = []\n",
    "embeddings = []\n",
    "for line in fe:\n",
    "    embeddings.append(np.array([float(x) for x in line.split(',')]))\n",
    "for line in f:\n",
    "    texts.append(line)\n",
    "df = pd.DataFrame({\"embedding\" : embeddings, \"text\" : texts})"
   ]
  },
  {
   "cell_type": "code",
   "execution_count": 4,
   "metadata": {},
   "outputs": [
    {
     "name": "stdout",
     "output_type": "stream",
     "text": [
      "0.21466098281545254 A Coca-Cola é vendida como um símbolo de felicidade, mas na verdade pode ser prejudicial à saúde.  #cocacola #marketing #saúdemental\n",
      "\n",
      "0.22241669413647036 Coca-Cola, o sabor que faz parte da sua vida!  #cocacola #sabor #vidamaisgostosa\n",
      "\n",
      "0.24050741024292666 Happy hour com os amigos e a coca pra animar o encontro!  #happyhour #coca #amigos\n",
      "\n",
      "0.24683397710259558 Noite de pizza com a galera e coca pra acompanhar!  #pizzaparty #cocacola #diversão\n",
      "\n"
     ]
    }
   ],
   "source": [
    "from langchain_google_genai import GoogleGenerativeAIEmbeddings, ChatGoogleGenerativeAI\n",
    "from dotenv import load_dotenv\n",
    "from scipy.spatial.distance import cosine\n",
    "\n",
    "load_dotenv()\n",
    "\n",
    "embeddings = GoogleGenerativeAIEmbeddings(model=\"models/embedding-001\")\n",
    "vector = embeddings.embed_query(\"felicidade\")\n",
    "\n",
    "all_distances = []\n",
    "\n",
    "for i in range(len(df)):\n",
    "    distance = cosine(df.iloc[i]['embedding'], vector)\n",
    "    all_distances.append(distance)\n",
    "\n",
    "df['distance'] = all_distances\n",
    "df.sort_values('distance', inplace = True)\n",
    "for t in range(4):\n",
    "    print(df.iloc[t]['distance'], df.iloc[t]['text'])"
   ]
  }
 ],
 "metadata": {
  "kernelspec": {
   "display_name": ".venv",
   "language": "python",
   "name": "python3"
  },
  "language_info": {
   "codemirror_mode": {
    "name": "ipython",
    "version": 3
   },
   "file_extension": ".py",
   "mimetype": "text/x-python",
   "name": "python",
   "nbconvert_exporter": "python",
   "pygments_lexer": "ipython3",
   "version": "3.10.12"
  }
 },
 "nbformat": 4,
 "nbformat_minor": 2
}
